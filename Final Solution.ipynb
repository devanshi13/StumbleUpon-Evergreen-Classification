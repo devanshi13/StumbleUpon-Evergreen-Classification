{
 "cells": [
  {
   "cell_type": "markdown",
   "metadata": {},
   "source": [
    "# **1. Import Libraries**"
   ]
  },
  {
   "cell_type": "code",
   "execution_count": 1,
   "metadata": {},
   "outputs": [],
   "source": [
    "import pandas as pd\n",
    "import numpy as np\n",
    "import seaborn as sns\n",
    "import matplotlib.pyplot as plt"
   ]
  },
  {
   "cell_type": "code",
   "execution_count": 2,
   "metadata": {},
   "outputs": [
    {
     "name": "stderr",
     "output_type": "stream",
     "text": [
      "[nltk_data] Downloading package stopwords to\n",
      "[nltk_data]     C:\\Users\\devan\\AppData\\Roaming\\nltk_data...\n",
      "[nltk_data]   Package stopwords is already up-to-date!\n",
      "[nltk_data] Downloading package punkt to\n",
      "[nltk_data]     C:\\Users\\devan\\AppData\\Roaming\\nltk_data...\n",
      "[nltk_data]   Package punkt is already up-to-date!\n"
     ]
    },
    {
     "data": {
      "text/plain": [
       "True"
      ]
     },
     "execution_count": 2,
     "metadata": {},
     "output_type": "execute_result"
    }
   ],
   "source": [
    "from sklearn.feature_extraction.text import TfidfVectorizer\n",
    "\n",
    "from nltk.corpus import stopwords\n",
    "from nltk.stem.porter import PorterStemmer\n",
    "import re\n",
    "\n",
    "import nltk\n",
    "nltk.download('stopwords')\n",
    "nltk.download('punkt')"
   ]
  },
  {
   "cell_type": "code",
   "execution_count": 3,
   "metadata": {},
   "outputs": [],
   "source": [
    "from sklearn.model_selection import train_test_split\n",
    "from sklearn.model_selection import GridSearchCV,cross_val_score\n",
    "from sklearn.metrics import accuracy_score, roc_auc_score, log_loss,confusion_matrix,classification_report"
   ]
  },
  {
   "cell_type": "markdown",
   "metadata": {},
   "source": [
    "# **2. Import Data**"
   ]
  },
  {
   "cell_type": "code",
   "execution_count": 4,
   "metadata": {},
   "outputs": [
    {
     "name": "stdout",
     "output_type": "stream",
     "text": [
      "Train dataset shape:  (7395, 27)\n"
     ]
    },
    {
     "data": {
      "text/html": [
       "<div>\n",
       "<style scoped>\n",
       "    .dataframe tbody tr th:only-of-type {\n",
       "        vertical-align: middle;\n",
       "    }\n",
       "\n",
       "    .dataframe tbody tr th {\n",
       "        vertical-align: top;\n",
       "    }\n",
       "\n",
       "    .dataframe thead th {\n",
       "        text-align: right;\n",
       "    }\n",
       "</style>\n",
       "<table border=\"1\" class=\"dataframe\">\n",
       "  <thead>\n",
       "    <tr style=\"text-align: right;\">\n",
       "      <th></th>\n",
       "      <th>url</th>\n",
       "      <th>urlid</th>\n",
       "      <th>boilerplate</th>\n",
       "      <th>alchemy_category</th>\n",
       "      <th>alchemy_category_score</th>\n",
       "      <th>avglinksize</th>\n",
       "      <th>commonlinkratio_1</th>\n",
       "      <th>commonlinkratio_2</th>\n",
       "      <th>commonlinkratio_3</th>\n",
       "      <th>commonlinkratio_4</th>\n",
       "      <th>...</th>\n",
       "      <th>is_news</th>\n",
       "      <th>lengthyLinkDomain</th>\n",
       "      <th>linkwordscore</th>\n",
       "      <th>news_front_page</th>\n",
       "      <th>non_markup_alphanum_characters</th>\n",
       "      <th>numberOfLinks</th>\n",
       "      <th>numwords_in_url</th>\n",
       "      <th>parametrizedLinkRatio</th>\n",
       "      <th>spelling_errors_ratio</th>\n",
       "      <th>label</th>\n",
       "    </tr>\n",
       "  </thead>\n",
       "  <tbody>\n",
       "    <tr>\n",
       "      <th>0</th>\n",
       "      <td>http://www.bloomberg.com/news/2010-12-23/ibm-p...</td>\n",
       "      <td>4042</td>\n",
       "      <td>{\"title\":\"IBM Sees Holographic Calls Air Breat...</td>\n",
       "      <td>business</td>\n",
       "      <td>0.789131</td>\n",
       "      <td>2.055556</td>\n",
       "      <td>0.676471</td>\n",
       "      <td>0.205882</td>\n",
       "      <td>0.047059</td>\n",
       "      <td>0.023529</td>\n",
       "      <td>...</td>\n",
       "      <td>1</td>\n",
       "      <td>1</td>\n",
       "      <td>24</td>\n",
       "      <td>0</td>\n",
       "      <td>5424</td>\n",
       "      <td>170</td>\n",
       "      <td>8</td>\n",
       "      <td>0.152941</td>\n",
       "      <td>0.079130</td>\n",
       "      <td>0</td>\n",
       "    </tr>\n",
       "    <tr>\n",
       "      <th>1</th>\n",
       "      <td>http://www.popsci.com/technology/article/2012-...</td>\n",
       "      <td>8471</td>\n",
       "      <td>{\"title\":\"The Fully Electronic Futuristic Star...</td>\n",
       "      <td>recreation</td>\n",
       "      <td>0.574147</td>\n",
       "      <td>3.677966</td>\n",
       "      <td>0.508021</td>\n",
       "      <td>0.288770</td>\n",
       "      <td>0.213904</td>\n",
       "      <td>0.144385</td>\n",
       "      <td>...</td>\n",
       "      <td>1</td>\n",
       "      <td>1</td>\n",
       "      <td>40</td>\n",
       "      <td>0</td>\n",
       "      <td>4973</td>\n",
       "      <td>187</td>\n",
       "      <td>9</td>\n",
       "      <td>0.181818</td>\n",
       "      <td>0.125448</td>\n",
       "      <td>1</td>\n",
       "    </tr>\n",
       "    <tr>\n",
       "      <th>2</th>\n",
       "      <td>http://www.menshealth.com/health/flu-fighting-...</td>\n",
       "      <td>1164</td>\n",
       "      <td>{\"title\":\"Fruits that Fight the Flu fruits tha...</td>\n",
       "      <td>health</td>\n",
       "      <td>0.996526</td>\n",
       "      <td>2.382883</td>\n",
       "      <td>0.562016</td>\n",
       "      <td>0.321705</td>\n",
       "      <td>0.120155</td>\n",
       "      <td>0.042636</td>\n",
       "      <td>...</td>\n",
       "      <td>1</td>\n",
       "      <td>1</td>\n",
       "      <td>55</td>\n",
       "      <td>0</td>\n",
       "      <td>2240</td>\n",
       "      <td>258</td>\n",
       "      <td>11</td>\n",
       "      <td>0.166667</td>\n",
       "      <td>0.057613</td>\n",
       "      <td>1</td>\n",
       "    </tr>\n",
       "    <tr>\n",
       "      <th>3</th>\n",
       "      <td>http://www.dumblittleman.com/2007/12/10-foolpr...</td>\n",
       "      <td>6684</td>\n",
       "      <td>{\"title\":\"10 Foolproof Tips for Better Sleep \"...</td>\n",
       "      <td>health</td>\n",
       "      <td>0.801248</td>\n",
       "      <td>1.543103</td>\n",
       "      <td>0.400000</td>\n",
       "      <td>0.100000</td>\n",
       "      <td>0.016667</td>\n",
       "      <td>0.000000</td>\n",
       "      <td>...</td>\n",
       "      <td>1</td>\n",
       "      <td>0</td>\n",
       "      <td>24</td>\n",
       "      <td>0</td>\n",
       "      <td>2737</td>\n",
       "      <td>120</td>\n",
       "      <td>5</td>\n",
       "      <td>0.041667</td>\n",
       "      <td>0.100858</td>\n",
       "      <td>1</td>\n",
       "    </tr>\n",
       "    <tr>\n",
       "      <th>4</th>\n",
       "      <td>http://bleacherreport.com/articles/1205138-the...</td>\n",
       "      <td>9006</td>\n",
       "      <td>{\"title\":\"The 50 Coolest Jerseys You Didn t Kn...</td>\n",
       "      <td>sports</td>\n",
       "      <td>0.719157</td>\n",
       "      <td>2.676471</td>\n",
       "      <td>0.500000</td>\n",
       "      <td>0.222222</td>\n",
       "      <td>0.123457</td>\n",
       "      <td>0.043210</td>\n",
       "      <td>...</td>\n",
       "      <td>1</td>\n",
       "      <td>1</td>\n",
       "      <td>14</td>\n",
       "      <td>0</td>\n",
       "      <td>12032</td>\n",
       "      <td>162</td>\n",
       "      <td>10</td>\n",
       "      <td>0.098765</td>\n",
       "      <td>0.082569</td>\n",
       "      <td>0</td>\n",
       "    </tr>\n",
       "  </tbody>\n",
       "</table>\n",
       "<p>5 rows × 27 columns</p>\n",
       "</div>"
      ],
      "text/plain": [
       "                                                 url  urlid  \\\n",
       "0  http://www.bloomberg.com/news/2010-12-23/ibm-p...   4042   \n",
       "1  http://www.popsci.com/technology/article/2012-...   8471   \n",
       "2  http://www.menshealth.com/health/flu-fighting-...   1164   \n",
       "3  http://www.dumblittleman.com/2007/12/10-foolpr...   6684   \n",
       "4  http://bleacherreport.com/articles/1205138-the...   9006   \n",
       "\n",
       "                                         boilerplate alchemy_category  \\\n",
       "0  {\"title\":\"IBM Sees Holographic Calls Air Breat...         business   \n",
       "1  {\"title\":\"The Fully Electronic Futuristic Star...       recreation   \n",
       "2  {\"title\":\"Fruits that Fight the Flu fruits tha...           health   \n",
       "3  {\"title\":\"10 Foolproof Tips for Better Sleep \"...           health   \n",
       "4  {\"title\":\"The 50 Coolest Jerseys You Didn t Kn...           sports   \n",
       "\n",
       "  alchemy_category_score  avglinksize  commonlinkratio_1  commonlinkratio_2  \\\n",
       "0               0.789131     2.055556           0.676471           0.205882   \n",
       "1               0.574147     3.677966           0.508021           0.288770   \n",
       "2               0.996526     2.382883           0.562016           0.321705   \n",
       "3               0.801248     1.543103           0.400000           0.100000   \n",
       "4               0.719157     2.676471           0.500000           0.222222   \n",
       "\n",
       "   commonlinkratio_3  commonlinkratio_4  ...  is_news  lengthyLinkDomain  \\\n",
       "0           0.047059           0.023529  ...        1                  1   \n",
       "1           0.213904           0.144385  ...        1                  1   \n",
       "2           0.120155           0.042636  ...        1                  1   \n",
       "3           0.016667           0.000000  ...        1                  0   \n",
       "4           0.123457           0.043210  ...        1                  1   \n",
       "\n",
       "   linkwordscore  news_front_page  non_markup_alphanum_characters  \\\n",
       "0             24                0                            5424   \n",
       "1             40                0                            4973   \n",
       "2             55                0                            2240   \n",
       "3             24                0                            2737   \n",
       "4             14                0                           12032   \n",
       "\n",
       "   numberOfLinks  numwords_in_url parametrizedLinkRatio  \\\n",
       "0            170                8              0.152941   \n",
       "1            187                9              0.181818   \n",
       "2            258               11              0.166667   \n",
       "3            120                5              0.041667   \n",
       "4            162               10              0.098765   \n",
       "\n",
       "   spelling_errors_ratio  label  \n",
       "0               0.079130      0  \n",
       "1               0.125448      1  \n",
       "2               0.057613      1  \n",
       "3               0.100858      1  \n",
       "4               0.082569      0  \n",
       "\n",
       "[5 rows x 27 columns]"
      ]
     },
     "execution_count": 4,
     "metadata": {},
     "output_type": "execute_result"
    }
   ],
   "source": [
    "df_train = pd.read_csv('train.tsv', sep='\\t')\n",
    "print(\"Train dataset shape: \", df_train.shape)\n",
    "df_train.head()"
   ]
  },
  {
   "cell_type": "code",
   "execution_count": 5,
   "metadata": {
    "scrolled": true
   },
   "outputs": [
    {
     "name": "stdout",
     "output_type": "stream",
     "text": [
      "Test dataset shape:  (3171, 26)\n"
     ]
    },
    {
     "data": {
      "text/html": [
       "<div>\n",
       "<style scoped>\n",
       "    .dataframe tbody tr th:only-of-type {\n",
       "        vertical-align: middle;\n",
       "    }\n",
       "\n",
       "    .dataframe tbody tr th {\n",
       "        vertical-align: top;\n",
       "    }\n",
       "\n",
       "    .dataframe thead th {\n",
       "        text-align: right;\n",
       "    }\n",
       "</style>\n",
       "<table border=\"1\" class=\"dataframe\">\n",
       "  <thead>\n",
       "    <tr style=\"text-align: right;\">\n",
       "      <th></th>\n",
       "      <th>url</th>\n",
       "      <th>urlid</th>\n",
       "      <th>boilerplate</th>\n",
       "      <th>alchemy_category</th>\n",
       "      <th>alchemy_category_score</th>\n",
       "      <th>avglinksize</th>\n",
       "      <th>commonlinkratio_1</th>\n",
       "      <th>commonlinkratio_2</th>\n",
       "      <th>commonlinkratio_3</th>\n",
       "      <th>commonlinkratio_4</th>\n",
       "      <th>...</th>\n",
       "      <th>image_ratio</th>\n",
       "      <th>is_news</th>\n",
       "      <th>lengthyLinkDomain</th>\n",
       "      <th>linkwordscore</th>\n",
       "      <th>news_front_page</th>\n",
       "      <th>non_markup_alphanum_characters</th>\n",
       "      <th>numberOfLinks</th>\n",
       "      <th>numwords_in_url</th>\n",
       "      <th>parametrizedLinkRatio</th>\n",
       "      <th>spelling_errors_ratio</th>\n",
       "    </tr>\n",
       "  </thead>\n",
       "  <tbody>\n",
       "    <tr>\n",
       "      <th>0</th>\n",
       "      <td>http://www.lynnskitchenadventures.com/2009/04/...</td>\n",
       "      <td>5865</td>\n",
       "      <td>{\"title\":\"Homemade Enchilada Sauce Lynn s Kitc...</td>\n",
       "      <td>recreation</td>\n",
       "      <td>0.443906</td>\n",
       "      <td>2.558140</td>\n",
       "      <td>0.389706</td>\n",
       "      <td>0.257353</td>\n",
       "      <td>0.044118</td>\n",
       "      <td>0.022059</td>\n",
       "      <td>...</td>\n",
       "      <td>0.199438</td>\n",
       "      <td>1</td>\n",
       "      <td>1</td>\n",
       "      <td>15</td>\n",
       "      <td>0</td>\n",
       "      <td>5643</td>\n",
       "      <td>136</td>\n",
       "      <td>3</td>\n",
       "      <td>0.242647</td>\n",
       "      <td>0.080597</td>\n",
       "    </tr>\n",
       "    <tr>\n",
       "      <th>1</th>\n",
       "      <td>http://lolpics.se/18552-stun-grenade-ar</td>\n",
       "      <td>782</td>\n",
       "      <td>{\"title\":\"lolpics Stun grenade ar \",\"body\":\" f...</td>\n",
       "      <td>culture_politics</td>\n",
       "      <td>0.135844</td>\n",
       "      <td>3.771429</td>\n",
       "      <td>0.461538</td>\n",
       "      <td>0.205128</td>\n",
       "      <td>0.051282</td>\n",
       "      <td>0.000000</td>\n",
       "      <td>...</td>\n",
       "      <td>0.080000</td>\n",
       "      <td>?</td>\n",
       "      <td>1</td>\n",
       "      <td>62</td>\n",
       "      <td>0</td>\n",
       "      <td>382</td>\n",
       "      <td>39</td>\n",
       "      <td>2</td>\n",
       "      <td>0.128205</td>\n",
       "      <td>0.176471</td>\n",
       "    </tr>\n",
       "    <tr>\n",
       "      <th>2</th>\n",
       "      <td>http://www.xcelerationfitness.com/treadmills.html</td>\n",
       "      <td>6962</td>\n",
       "      <td>{\"title\":\"Treadmills \",\"body\":\" treadmills, st...</td>\n",
       "      <td>?</td>\n",
       "      <td>?</td>\n",
       "      <td>2.269565</td>\n",
       "      <td>0.495726</td>\n",
       "      <td>0.384615</td>\n",
       "      <td>0.170940</td>\n",
       "      <td>0.170940</td>\n",
       "      <td>...</td>\n",
       "      <td>10.000000</td>\n",
       "      <td>?</td>\n",
       "      <td>1</td>\n",
       "      <td>42</td>\n",
       "      <td>0</td>\n",
       "      <td>2420</td>\n",
       "      <td>117</td>\n",
       "      <td>1</td>\n",
       "      <td>0.581197</td>\n",
       "      <td>0.125000</td>\n",
       "    </tr>\n",
       "    <tr>\n",
       "      <th>3</th>\n",
       "      <td>http://www.bloomberg.com/news/2012-02-06/syria...</td>\n",
       "      <td>7640</td>\n",
       "      <td>{\"title\":\"Father s Tactics Used by Assad to Cr...</td>\n",
       "      <td>culture_politics</td>\n",
       "      <td>0.90259</td>\n",
       "      <td>2.523490</td>\n",
       "      <td>0.705502</td>\n",
       "      <td>0.346278</td>\n",
       "      <td>0.122977</td>\n",
       "      <td>0.090615</td>\n",
       "      <td>...</td>\n",
       "      <td>0.005964</td>\n",
       "      <td>1</td>\n",
       "      <td>1</td>\n",
       "      <td>41</td>\n",
       "      <td>0</td>\n",
       "      <td>5559</td>\n",
       "      <td>309</td>\n",
       "      <td>10</td>\n",
       "      <td>0.038835</td>\n",
       "      <td>0.063126</td>\n",
       "    </tr>\n",
       "    <tr>\n",
       "      <th>4</th>\n",
       "      <td>http://www.wired.com/gadgetlab/2011/12/stem-tu...</td>\n",
       "      <td>3589</td>\n",
       "      <td>{\"title\":\"Stem Turns Lemons and Limes Into Jui...</td>\n",
       "      <td>science_technology</td>\n",
       "      <td>0.486363</td>\n",
       "      <td>1.848000</td>\n",
       "      <td>0.470968</td>\n",
       "      <td>0.161290</td>\n",
       "      <td>0.032258</td>\n",
       "      <td>0.000000</td>\n",
       "      <td>...</td>\n",
       "      <td>0.035714</td>\n",
       "      <td>1</td>\n",
       "      <td>0</td>\n",
       "      <td>34</td>\n",
       "      <td>0</td>\n",
       "      <td>2209</td>\n",
       "      <td>155</td>\n",
       "      <td>10</td>\n",
       "      <td>0.096774</td>\n",
       "      <td>0.065341</td>\n",
       "    </tr>\n",
       "  </tbody>\n",
       "</table>\n",
       "<p>5 rows × 26 columns</p>\n",
       "</div>"
      ],
      "text/plain": [
       "                                                 url  urlid  \\\n",
       "0  http://www.lynnskitchenadventures.com/2009/04/...   5865   \n",
       "1            http://lolpics.se/18552-stun-grenade-ar    782   \n",
       "2  http://www.xcelerationfitness.com/treadmills.html   6962   \n",
       "3  http://www.bloomberg.com/news/2012-02-06/syria...   7640   \n",
       "4  http://www.wired.com/gadgetlab/2011/12/stem-tu...   3589   \n",
       "\n",
       "                                         boilerplate    alchemy_category  \\\n",
       "0  {\"title\":\"Homemade Enchilada Sauce Lynn s Kitc...          recreation   \n",
       "1  {\"title\":\"lolpics Stun grenade ar \",\"body\":\" f...    culture_politics   \n",
       "2  {\"title\":\"Treadmills \",\"body\":\" treadmills, st...                   ?   \n",
       "3  {\"title\":\"Father s Tactics Used by Assad to Cr...    culture_politics   \n",
       "4  {\"title\":\"Stem Turns Lemons and Limes Into Jui...  science_technology   \n",
       "\n",
       "  alchemy_category_score  avglinksize  commonlinkratio_1  commonlinkratio_2  \\\n",
       "0               0.443906     2.558140           0.389706           0.257353   \n",
       "1               0.135844     3.771429           0.461538           0.205128   \n",
       "2                      ?     2.269565           0.495726           0.384615   \n",
       "3                0.90259     2.523490           0.705502           0.346278   \n",
       "4               0.486363     1.848000           0.470968           0.161290   \n",
       "\n",
       "   commonlinkratio_3  commonlinkratio_4  ...  image_ratio  is_news  \\\n",
       "0           0.044118           0.022059  ...     0.199438        1   \n",
       "1           0.051282           0.000000  ...     0.080000        ?   \n",
       "2           0.170940           0.170940  ...    10.000000        ?   \n",
       "3           0.122977           0.090615  ...     0.005964        1   \n",
       "4           0.032258           0.000000  ...     0.035714        1   \n",
       "\n",
       "   lengthyLinkDomain  linkwordscore  news_front_page  \\\n",
       "0                  1             15                0   \n",
       "1                  1             62                0   \n",
       "2                  1             42                0   \n",
       "3                  1             41                0   \n",
       "4                  0             34                0   \n",
       "\n",
       "   non_markup_alphanum_characters  numberOfLinks numwords_in_url  \\\n",
       "0                            5643            136               3   \n",
       "1                             382             39               2   \n",
       "2                            2420            117               1   \n",
       "3                            5559            309              10   \n",
       "4                            2209            155              10   \n",
       "\n",
       "   parametrizedLinkRatio  spelling_errors_ratio  \n",
       "0               0.242647               0.080597  \n",
       "1               0.128205               0.176471  \n",
       "2               0.581197               0.125000  \n",
       "3               0.038835               0.063126  \n",
       "4               0.096774               0.065341  \n",
       "\n",
       "[5 rows x 26 columns]"
      ]
     },
     "execution_count": 5,
     "metadata": {},
     "output_type": "execute_result"
    }
   ],
   "source": [
    "df_test = pd.read_csv('test.tsv', sep='\\t')\n",
    "print(\"Test dataset shape: \", df_test.shape)\n",
    "df_test.head()"
   ]
  },
  {
   "cell_type": "markdown",
   "metadata": {},
   "source": [
    "# **3. Data Exploration**"
   ]
  },
  {
   "cell_type": "code",
   "execution_count": 6,
   "metadata": {},
   "outputs": [
    {
     "name": "stdout",
     "output_type": "stream",
     "text": [
      "<class 'pandas.core.frame.DataFrame'>\n",
      "RangeIndex: 7395 entries, 0 to 7394\n",
      "Data columns (total 27 columns):\n",
      " #   Column                          Non-Null Count  Dtype  \n",
      "---  ------                          --------------  -----  \n",
      " 0   url                             7395 non-null   object \n",
      " 1   urlid                           7395 non-null   int64  \n",
      " 2   boilerplate                     7395 non-null   object \n",
      " 3   alchemy_category                7395 non-null   object \n",
      " 4   alchemy_category_score          7395 non-null   object \n",
      " 5   avglinksize                     7395 non-null   float64\n",
      " 6   commonlinkratio_1               7395 non-null   float64\n",
      " 7   commonlinkratio_2               7395 non-null   float64\n",
      " 8   commonlinkratio_3               7395 non-null   float64\n",
      " 9   commonlinkratio_4               7395 non-null   float64\n",
      " 10  compression_ratio               7395 non-null   float64\n",
      " 11  embed_ratio                     7395 non-null   float64\n",
      " 12  framebased                      7395 non-null   int64  \n",
      " 13  frameTagRatio                   7395 non-null   float64\n",
      " 14  hasDomainLink                   7395 non-null   int64  \n",
      " 15  html_ratio                      7395 non-null   float64\n",
      " 16  image_ratio                     7395 non-null   float64\n",
      " 17  is_news                         7395 non-null   object \n",
      " 18  lengthyLinkDomain               7395 non-null   int64  \n",
      " 19  linkwordscore                   7395 non-null   int64  \n",
      " 20  news_front_page                 7395 non-null   object \n",
      " 21  non_markup_alphanum_characters  7395 non-null   int64  \n",
      " 22  numberOfLinks                   7395 non-null   int64  \n",
      " 23  numwords_in_url                 7395 non-null   int64  \n",
      " 24  parametrizedLinkRatio           7395 non-null   float64\n",
      " 25  spelling_errors_ratio           7395 non-null   float64\n",
      " 26  label                           7395 non-null   int64  \n",
      "dtypes: float64(12), int64(9), object(6)\n",
      "memory usage: 1.5+ MB\n"
     ]
    }
   ],
   "source": [
    "df_train.info()"
   ]
  },
  {
   "cell_type": "code",
   "execution_count": 7,
   "metadata": {},
   "outputs": [
    {
     "data": {
      "text/html": [
       "<div>\n",
       "<style scoped>\n",
       "    .dataframe tbody tr th:only-of-type {\n",
       "        vertical-align: middle;\n",
       "    }\n",
       "\n",
       "    .dataframe tbody tr th {\n",
       "        vertical-align: top;\n",
       "    }\n",
       "\n",
       "    .dataframe thead th {\n",
       "        text-align: right;\n",
       "    }\n",
       "</style>\n",
       "<table border=\"1\" class=\"dataframe\">\n",
       "  <thead>\n",
       "    <tr style=\"text-align: right;\">\n",
       "      <th></th>\n",
       "      <th>urlid</th>\n",
       "      <th>avglinksize</th>\n",
       "      <th>commonlinkratio_1</th>\n",
       "      <th>commonlinkratio_2</th>\n",
       "      <th>commonlinkratio_3</th>\n",
       "      <th>commonlinkratio_4</th>\n",
       "      <th>compression_ratio</th>\n",
       "      <th>embed_ratio</th>\n",
       "      <th>framebased</th>\n",
       "      <th>frameTagRatio</th>\n",
       "      <th>...</th>\n",
       "      <th>html_ratio</th>\n",
       "      <th>image_ratio</th>\n",
       "      <th>lengthyLinkDomain</th>\n",
       "      <th>linkwordscore</th>\n",
       "      <th>non_markup_alphanum_characters</th>\n",
       "      <th>numberOfLinks</th>\n",
       "      <th>numwords_in_url</th>\n",
       "      <th>parametrizedLinkRatio</th>\n",
       "      <th>spelling_errors_ratio</th>\n",
       "      <th>label</th>\n",
       "    </tr>\n",
       "  </thead>\n",
       "  <tbody>\n",
       "    <tr>\n",
       "      <th>count</th>\n",
       "      <td>7395.000000</td>\n",
       "      <td>7395.000000</td>\n",
       "      <td>7395.000000</td>\n",
       "      <td>7395.000000</td>\n",
       "      <td>7395.000000</td>\n",
       "      <td>7395.000000</td>\n",
       "      <td>7395.000000</td>\n",
       "      <td>7395.000000</td>\n",
       "      <td>7395.0</td>\n",
       "      <td>7395.000000</td>\n",
       "      <td>...</td>\n",
       "      <td>7395.000000</td>\n",
       "      <td>7395.000000</td>\n",
       "      <td>7395.000000</td>\n",
       "      <td>7395.000000</td>\n",
       "      <td>7395.000000</td>\n",
       "      <td>7395.000000</td>\n",
       "      <td>7395.000000</td>\n",
       "      <td>7395.000000</td>\n",
       "      <td>7395.000000</td>\n",
       "      <td>7395.000000</td>\n",
       "    </tr>\n",
       "    <tr>\n",
       "      <th>mean</th>\n",
       "      <td>5305.704665</td>\n",
       "      <td>2.761823</td>\n",
       "      <td>0.468230</td>\n",
       "      <td>0.214080</td>\n",
       "      <td>0.092062</td>\n",
       "      <td>0.049262</td>\n",
       "      <td>2.255103</td>\n",
       "      <td>-0.103750</td>\n",
       "      <td>0.0</td>\n",
       "      <td>0.056423</td>\n",
       "      <td>...</td>\n",
       "      <td>0.233778</td>\n",
       "      <td>0.275709</td>\n",
       "      <td>0.660311</td>\n",
       "      <td>30.077079</td>\n",
       "      <td>5716.598242</td>\n",
       "      <td>178.754564</td>\n",
       "      <td>4.960649</td>\n",
       "      <td>0.172864</td>\n",
       "      <td>0.101221</td>\n",
       "      <td>0.513320</td>\n",
       "    </tr>\n",
       "    <tr>\n",
       "      <th>std</th>\n",
       "      <td>3048.384114</td>\n",
       "      <td>8.619793</td>\n",
       "      <td>0.203133</td>\n",
       "      <td>0.146743</td>\n",
       "      <td>0.095978</td>\n",
       "      <td>0.072629</td>\n",
       "      <td>5.704313</td>\n",
       "      <td>0.306545</td>\n",
       "      <td>0.0</td>\n",
       "      <td>0.041446</td>\n",
       "      <td>...</td>\n",
       "      <td>0.052487</td>\n",
       "      <td>1.919320</td>\n",
       "      <td>0.473636</td>\n",
       "      <td>20.393101</td>\n",
       "      <td>8875.432430</td>\n",
       "      <td>179.466198</td>\n",
       "      <td>3.233111</td>\n",
       "      <td>0.183286</td>\n",
       "      <td>0.079231</td>\n",
       "      <td>0.499856</td>\n",
       "    </tr>\n",
       "    <tr>\n",
       "      <th>min</th>\n",
       "      <td>1.000000</td>\n",
       "      <td>0.000000</td>\n",
       "      <td>0.000000</td>\n",
       "      <td>0.000000</td>\n",
       "      <td>0.000000</td>\n",
       "      <td>0.000000</td>\n",
       "      <td>0.000000</td>\n",
       "      <td>-1.000000</td>\n",
       "      <td>0.0</td>\n",
       "      <td>0.000000</td>\n",
       "      <td>...</td>\n",
       "      <td>0.045564</td>\n",
       "      <td>-1.000000</td>\n",
       "      <td>0.000000</td>\n",
       "      <td>0.000000</td>\n",
       "      <td>0.000000</td>\n",
       "      <td>1.000000</td>\n",
       "      <td>0.000000</td>\n",
       "      <td>0.000000</td>\n",
       "      <td>0.000000</td>\n",
       "      <td>0.000000</td>\n",
       "    </tr>\n",
       "    <tr>\n",
       "      <th>25%</th>\n",
       "      <td>2688.500000</td>\n",
       "      <td>1.602062</td>\n",
       "      <td>0.340370</td>\n",
       "      <td>0.105263</td>\n",
       "      <td>0.022222</td>\n",
       "      <td>0.000000</td>\n",
       "      <td>0.442616</td>\n",
       "      <td>0.000000</td>\n",
       "      <td>0.0</td>\n",
       "      <td>0.028502</td>\n",
       "      <td>...</td>\n",
       "      <td>0.201061</td>\n",
       "      <td>0.025900</td>\n",
       "      <td>0.000000</td>\n",
       "      <td>14.000000</td>\n",
       "      <td>1579.000000</td>\n",
       "      <td>82.000000</td>\n",
       "      <td>3.000000</td>\n",
       "      <td>0.040984</td>\n",
       "      <td>0.068739</td>\n",
       "      <td>0.000000</td>\n",
       "    </tr>\n",
       "    <tr>\n",
       "      <th>50%</th>\n",
       "      <td>5304.000000</td>\n",
       "      <td>2.088235</td>\n",
       "      <td>0.481481</td>\n",
       "      <td>0.202454</td>\n",
       "      <td>0.068627</td>\n",
       "      <td>0.022222</td>\n",
       "      <td>0.483680</td>\n",
       "      <td>0.000000</td>\n",
       "      <td>0.0</td>\n",
       "      <td>0.045775</td>\n",
       "      <td>...</td>\n",
       "      <td>0.230564</td>\n",
       "      <td>0.083051</td>\n",
       "      <td>1.000000</td>\n",
       "      <td>25.000000</td>\n",
       "      <td>3500.000000</td>\n",
       "      <td>139.000000</td>\n",
       "      <td>5.000000</td>\n",
       "      <td>0.113402</td>\n",
       "      <td>0.089312</td>\n",
       "      <td>1.000000</td>\n",
       "    </tr>\n",
       "    <tr>\n",
       "      <th>75%</th>\n",
       "      <td>7946.500000</td>\n",
       "      <td>2.627451</td>\n",
       "      <td>0.616604</td>\n",
       "      <td>0.300000</td>\n",
       "      <td>0.133333</td>\n",
       "      <td>0.065065</td>\n",
       "      <td>0.578227</td>\n",
       "      <td>0.000000</td>\n",
       "      <td>0.0</td>\n",
       "      <td>0.073459</td>\n",
       "      <td>...</td>\n",
       "      <td>0.260770</td>\n",
       "      <td>0.236700</td>\n",
       "      <td>1.000000</td>\n",
       "      <td>43.000000</td>\n",
       "      <td>6377.000000</td>\n",
       "      <td>222.000000</td>\n",
       "      <td>7.000000</td>\n",
       "      <td>0.241299</td>\n",
       "      <td>0.112376</td>\n",
       "      <td>1.000000</td>\n",
       "    </tr>\n",
       "    <tr>\n",
       "      <th>max</th>\n",
       "      <td>10566.000000</td>\n",
       "      <td>363.000000</td>\n",
       "      <td>1.000000</td>\n",
       "      <td>1.000000</td>\n",
       "      <td>0.980392</td>\n",
       "      <td>0.980392</td>\n",
       "      <td>21.000000</td>\n",
       "      <td>0.250000</td>\n",
       "      <td>0.0</td>\n",
       "      <td>0.444444</td>\n",
       "      <td>...</td>\n",
       "      <td>0.716883</td>\n",
       "      <td>113.333333</td>\n",
       "      <td>1.000000</td>\n",
       "      <td>100.000000</td>\n",
       "      <td>207952.000000</td>\n",
       "      <td>4997.000000</td>\n",
       "      <td>22.000000</td>\n",
       "      <td>1.000000</td>\n",
       "      <td>1.000000</td>\n",
       "      <td>1.000000</td>\n",
       "    </tr>\n",
       "  </tbody>\n",
       "</table>\n",
       "<p>8 rows × 21 columns</p>\n",
       "</div>"
      ],
      "text/plain": [
       "              urlid  avglinksize  commonlinkratio_1  commonlinkratio_2  \\\n",
       "count   7395.000000  7395.000000        7395.000000        7395.000000   \n",
       "mean    5305.704665     2.761823           0.468230           0.214080   \n",
       "std     3048.384114     8.619793           0.203133           0.146743   \n",
       "min        1.000000     0.000000           0.000000           0.000000   \n",
       "25%     2688.500000     1.602062           0.340370           0.105263   \n",
       "50%     5304.000000     2.088235           0.481481           0.202454   \n",
       "75%     7946.500000     2.627451           0.616604           0.300000   \n",
       "max    10566.000000   363.000000           1.000000           1.000000   \n",
       "\n",
       "       commonlinkratio_3  commonlinkratio_4  compression_ratio  embed_ratio  \\\n",
       "count        7395.000000        7395.000000        7395.000000  7395.000000   \n",
       "mean            0.092062           0.049262           2.255103    -0.103750   \n",
       "std             0.095978           0.072629           5.704313     0.306545   \n",
       "min             0.000000           0.000000           0.000000    -1.000000   \n",
       "25%             0.022222           0.000000           0.442616     0.000000   \n",
       "50%             0.068627           0.022222           0.483680     0.000000   \n",
       "75%             0.133333           0.065065           0.578227     0.000000   \n",
       "max             0.980392           0.980392          21.000000     0.250000   \n",
       "\n",
       "       framebased  frameTagRatio  ...   html_ratio  image_ratio  \\\n",
       "count      7395.0    7395.000000  ...  7395.000000  7395.000000   \n",
       "mean          0.0       0.056423  ...     0.233778     0.275709   \n",
       "std           0.0       0.041446  ...     0.052487     1.919320   \n",
       "min           0.0       0.000000  ...     0.045564    -1.000000   \n",
       "25%           0.0       0.028502  ...     0.201061     0.025900   \n",
       "50%           0.0       0.045775  ...     0.230564     0.083051   \n",
       "75%           0.0       0.073459  ...     0.260770     0.236700   \n",
       "max           0.0       0.444444  ...     0.716883   113.333333   \n",
       "\n",
       "       lengthyLinkDomain  linkwordscore  non_markup_alphanum_characters  \\\n",
       "count        7395.000000    7395.000000                     7395.000000   \n",
       "mean            0.660311      30.077079                     5716.598242   \n",
       "std             0.473636      20.393101                     8875.432430   \n",
       "min             0.000000       0.000000                        0.000000   \n",
       "25%             0.000000      14.000000                     1579.000000   \n",
       "50%             1.000000      25.000000                     3500.000000   \n",
       "75%             1.000000      43.000000                     6377.000000   \n",
       "max             1.000000     100.000000                   207952.000000   \n",
       "\n",
       "       numberOfLinks  numwords_in_url  parametrizedLinkRatio  \\\n",
       "count    7395.000000      7395.000000            7395.000000   \n",
       "mean      178.754564         4.960649               0.172864   \n",
       "std       179.466198         3.233111               0.183286   \n",
       "min         1.000000         0.000000               0.000000   \n",
       "25%        82.000000         3.000000               0.040984   \n",
       "50%       139.000000         5.000000               0.113402   \n",
       "75%       222.000000         7.000000               0.241299   \n",
       "max      4997.000000        22.000000               1.000000   \n",
       "\n",
       "       spelling_errors_ratio        label  \n",
       "count            7395.000000  7395.000000  \n",
       "mean                0.101221     0.513320  \n",
       "std                 0.079231     0.499856  \n",
       "min                 0.000000     0.000000  \n",
       "25%                 0.068739     0.000000  \n",
       "50%                 0.089312     1.000000  \n",
       "75%                 0.112376     1.000000  \n",
       "max                 1.000000     1.000000  \n",
       "\n",
       "[8 rows x 21 columns]"
      ]
     },
     "execution_count": 7,
     "metadata": {},
     "output_type": "execute_result"
    }
   ],
   "source": [
    "df_train.describe()"
   ]
  },
  {
   "cell_type": "code",
   "execution_count": 8,
   "metadata": {},
   "outputs": [
    {
     "name": "stdout",
     "output_type": "stream",
     "text": [
      "<class 'pandas.core.frame.DataFrame'>\n",
      "RangeIndex: 3171 entries, 0 to 3170\n",
      "Data columns (total 26 columns):\n",
      " #   Column                          Non-Null Count  Dtype  \n",
      "---  ------                          --------------  -----  \n",
      " 0   url                             3171 non-null   object \n",
      " 1   urlid                           3171 non-null   int64  \n",
      " 2   boilerplate                     3171 non-null   object \n",
      " 3   alchemy_category                3171 non-null   object \n",
      " 4   alchemy_category_score          3171 non-null   object \n",
      " 5   avglinksize                     3171 non-null   float64\n",
      " 6   commonlinkratio_1               3171 non-null   float64\n",
      " 7   commonlinkratio_2               3171 non-null   float64\n",
      " 8   commonlinkratio_3               3171 non-null   float64\n",
      " 9   commonlinkratio_4               3171 non-null   float64\n",
      " 10  compression_ratio               3171 non-null   float64\n",
      " 11  embed_ratio                     3171 non-null   float64\n",
      " 12  framebased                      3171 non-null   int64  \n",
      " 13  frameTagRatio                   3171 non-null   float64\n",
      " 14  hasDomainLink                   3171 non-null   int64  \n",
      " 15  html_ratio                      3171 non-null   float64\n",
      " 16  image_ratio                     3171 non-null   float64\n",
      " 17  is_news                         3171 non-null   object \n",
      " 18  lengthyLinkDomain               3171 non-null   int64  \n",
      " 19  linkwordscore                   3171 non-null   int64  \n",
      " 20  news_front_page                 3171 non-null   object \n",
      " 21  non_markup_alphanum_characters  3171 non-null   int64  \n",
      " 22  numberOfLinks                   3171 non-null   int64  \n",
      " 23  numwords_in_url                 3171 non-null   int64  \n",
      " 24  parametrizedLinkRatio           3171 non-null   float64\n",
      " 25  spelling_errors_ratio           3171 non-null   float64\n",
      "dtypes: float64(12), int64(8), object(6)\n",
      "memory usage: 644.2+ KB\n"
     ]
    }
   ],
   "source": [
    "df_test.info()"
   ]
  },
  {
   "cell_type": "code",
   "execution_count": 9,
   "metadata": {},
   "outputs": [
    {
     "data": {
      "text/html": [
       "<div>\n",
       "<style scoped>\n",
       "    .dataframe tbody tr th:only-of-type {\n",
       "        vertical-align: middle;\n",
       "    }\n",
       "\n",
       "    .dataframe tbody tr th {\n",
       "        vertical-align: top;\n",
       "    }\n",
       "\n",
       "    .dataframe thead th {\n",
       "        text-align: right;\n",
       "    }\n",
       "</style>\n",
       "<table border=\"1\" class=\"dataframe\">\n",
       "  <thead>\n",
       "    <tr style=\"text-align: right;\">\n",
       "      <th></th>\n",
       "      <th>urlid</th>\n",
       "      <th>avglinksize</th>\n",
       "      <th>commonlinkratio_1</th>\n",
       "      <th>commonlinkratio_2</th>\n",
       "      <th>commonlinkratio_3</th>\n",
       "      <th>commonlinkratio_4</th>\n",
       "      <th>compression_ratio</th>\n",
       "      <th>embed_ratio</th>\n",
       "      <th>framebased</th>\n",
       "      <th>frameTagRatio</th>\n",
       "      <th>hasDomainLink</th>\n",
       "      <th>html_ratio</th>\n",
       "      <th>image_ratio</th>\n",
       "      <th>lengthyLinkDomain</th>\n",
       "      <th>linkwordscore</th>\n",
       "      <th>non_markup_alphanum_characters</th>\n",
       "      <th>numberOfLinks</th>\n",
       "      <th>numwords_in_url</th>\n",
       "      <th>parametrizedLinkRatio</th>\n",
       "      <th>spelling_errors_ratio</th>\n",
       "    </tr>\n",
       "  </thead>\n",
       "  <tbody>\n",
       "    <tr>\n",
       "      <th>count</th>\n",
       "      <td>3171.000000</td>\n",
       "      <td>3171.000000</td>\n",
       "      <td>3171.000000</td>\n",
       "      <td>3171.000000</td>\n",
       "      <td>3171.000000</td>\n",
       "      <td>3171.000000</td>\n",
       "      <td>3171.000000</td>\n",
       "      <td>3171.000000</td>\n",
       "      <td>3171.0</td>\n",
       "      <td>3171.000000</td>\n",
       "      <td>3171.000000</td>\n",
       "      <td>3171.000000</td>\n",
       "      <td>3171.000000</td>\n",
       "      <td>3171.000000</td>\n",
       "      <td>3171.000000</td>\n",
       "      <td>3171.000000</td>\n",
       "      <td>3171.000000</td>\n",
       "      <td>3171.000000</td>\n",
       "      <td>3171.000000</td>\n",
       "      <td>3171.000000</td>\n",
       "    </tr>\n",
       "    <tr>\n",
       "      <th>mean</th>\n",
       "      <td>5231.717124</td>\n",
       "      <td>2.968182</td>\n",
       "      <td>0.467111</td>\n",
       "      <td>0.207704</td>\n",
       "      <td>0.089960</td>\n",
       "      <td>0.047845</td>\n",
       "      <td>2.375620</td>\n",
       "      <td>-0.106485</td>\n",
       "      <td>0.0</td>\n",
       "      <td>0.058089</td>\n",
       "      <td>0.022390</td>\n",
       "      <td>0.235723</td>\n",
       "      <td>0.257211</td>\n",
       "      <td>0.640492</td>\n",
       "      <td>29.993693</td>\n",
       "      <td>5698.972564</td>\n",
       "      <td>169.583412</td>\n",
       "      <td>4.787764</td>\n",
       "      <td>0.168745</td>\n",
       "      <td>0.101621</td>\n",
       "    </tr>\n",
       "    <tr>\n",
       "      <th>std</th>\n",
       "      <td>3054.569996</td>\n",
       "      <td>19.536725</td>\n",
       "      <td>0.199111</td>\n",
       "      <td>0.144784</td>\n",
       "      <td>0.094182</td>\n",
       "      <td>0.071556</td>\n",
       "      <td>5.879138</td>\n",
       "      <td>0.311377</td>\n",
       "      <td>0.0</td>\n",
       "      <td>0.043265</td>\n",
       "      <td>0.147973</td>\n",
       "      <td>0.054393</td>\n",
       "      <td>1.323941</td>\n",
       "      <td>0.479932</td>\n",
       "      <td>20.626985</td>\n",
       "      <td>10726.102405</td>\n",
       "      <td>145.842805</td>\n",
       "      <td>3.142271</td>\n",
       "      <td>0.182017</td>\n",
       "      <td>0.082189</td>\n",
       "    </tr>\n",
       "    <tr>\n",
       "      <th>min</th>\n",
       "      <td>3.000000</td>\n",
       "      <td>0.000000</td>\n",
       "      <td>0.000000</td>\n",
       "      <td>0.000000</td>\n",
       "      <td>0.000000</td>\n",
       "      <td>0.000000</td>\n",
       "      <td>0.000000</td>\n",
       "      <td>-1.000000</td>\n",
       "      <td>0.0</td>\n",
       "      <td>0.000000</td>\n",
       "      <td>0.000000</td>\n",
       "      <td>0.046925</td>\n",
       "      <td>-1.000000</td>\n",
       "      <td>0.000000</td>\n",
       "      <td>0.000000</td>\n",
       "      <td>0.000000</td>\n",
       "      <td>1.000000</td>\n",
       "      <td>0.000000</td>\n",
       "      <td>0.000000</td>\n",
       "      <td>0.000000</td>\n",
       "    </tr>\n",
       "    <tr>\n",
       "      <th>25%</th>\n",
       "      <td>2536.500000</td>\n",
       "      <td>1.610350</td>\n",
       "      <td>0.339454</td>\n",
       "      <td>0.100000</td>\n",
       "      <td>0.019608</td>\n",
       "      <td>0.000000</td>\n",
       "      <td>0.441972</td>\n",
       "      <td>0.000000</td>\n",
       "      <td>0.0</td>\n",
       "      <td>0.028866</td>\n",
       "      <td>0.000000</td>\n",
       "      <td>0.201739</td>\n",
       "      <td>0.023005</td>\n",
       "      <td>0.000000</td>\n",
       "      <td>14.000000</td>\n",
       "      <td>1514.000000</td>\n",
       "      <td>77.000000</td>\n",
       "      <td>3.000000</td>\n",
       "      <td>0.036145</td>\n",
       "      <td>0.067272</td>\n",
       "    </tr>\n",
       "    <tr>\n",
       "      <th>50%</th>\n",
       "      <td>5229.000000</td>\n",
       "      <td>2.065476</td>\n",
       "      <td>0.478261</td>\n",
       "      <td>0.191919</td>\n",
       "      <td>0.064935</td>\n",
       "      <td>0.019685</td>\n",
       "      <td>0.481728</td>\n",
       "      <td>0.000000</td>\n",
       "      <td>0.0</td>\n",
       "      <td>0.048302</td>\n",
       "      <td>0.000000</td>\n",
       "      <td>0.233212</td>\n",
       "      <td>0.076087</td>\n",
       "      <td>1.000000</td>\n",
       "      <td>25.000000</td>\n",
       "      <td>3391.000000</td>\n",
       "      <td>135.000000</td>\n",
       "      <td>5.000000</td>\n",
       "      <td>0.108696</td>\n",
       "      <td>0.088861</td>\n",
       "    </tr>\n",
       "    <tr>\n",
       "      <th>75%</th>\n",
       "      <td>7865.500000</td>\n",
       "      <td>2.576541</td>\n",
       "      <td>0.611270</td>\n",
       "      <td>0.293978</td>\n",
       "      <td>0.131962</td>\n",
       "      <td>0.062794</td>\n",
       "      <td>0.586843</td>\n",
       "      <td>0.000000</td>\n",
       "      <td>0.0</td>\n",
       "      <td>0.074899</td>\n",
       "      <td>0.000000</td>\n",
       "      <td>0.263529</td>\n",
       "      <td>0.222222</td>\n",
       "      <td>1.000000</td>\n",
       "      <td>42.000000</td>\n",
       "      <td>6229.000000</td>\n",
       "      <td>218.500000</td>\n",
       "      <td>7.000000</td>\n",
       "      <td>0.239316</td>\n",
       "      <td>0.112139</td>\n",
       "    </tr>\n",
       "    <tr>\n",
       "      <th>max</th>\n",
       "      <td>10564.000000</td>\n",
       "      <td>1062.000000</td>\n",
       "      <td>1.000000</td>\n",
       "      <td>0.857143</td>\n",
       "      <td>0.734932</td>\n",
       "      <td>0.696802</td>\n",
       "      <td>21.000000</td>\n",
       "      <td>0.928571</td>\n",
       "      <td>0.0</td>\n",
       "      <td>0.375000</td>\n",
       "      <td>1.000000</td>\n",
       "      <td>0.678877</td>\n",
       "      <td>29.000000</td>\n",
       "      <td>1.000000</td>\n",
       "      <td>100.000000</td>\n",
       "      <td>331764.000000</td>\n",
       "      <td>1626.000000</td>\n",
       "      <td>19.000000</td>\n",
       "      <td>1.000000</td>\n",
       "      <td>1.000000</td>\n",
       "    </tr>\n",
       "  </tbody>\n",
       "</table>\n",
       "</div>"
      ],
      "text/plain": [
       "              urlid  avglinksize  commonlinkratio_1  commonlinkratio_2  \\\n",
       "count   3171.000000  3171.000000        3171.000000        3171.000000   \n",
       "mean    5231.717124     2.968182           0.467111           0.207704   \n",
       "std     3054.569996    19.536725           0.199111           0.144784   \n",
       "min        3.000000     0.000000           0.000000           0.000000   \n",
       "25%     2536.500000     1.610350           0.339454           0.100000   \n",
       "50%     5229.000000     2.065476           0.478261           0.191919   \n",
       "75%     7865.500000     2.576541           0.611270           0.293978   \n",
       "max    10564.000000  1062.000000           1.000000           0.857143   \n",
       "\n",
       "       commonlinkratio_3  commonlinkratio_4  compression_ratio  embed_ratio  \\\n",
       "count        3171.000000        3171.000000        3171.000000  3171.000000   \n",
       "mean            0.089960           0.047845           2.375620    -0.106485   \n",
       "std             0.094182           0.071556           5.879138     0.311377   \n",
       "min             0.000000           0.000000           0.000000    -1.000000   \n",
       "25%             0.019608           0.000000           0.441972     0.000000   \n",
       "50%             0.064935           0.019685           0.481728     0.000000   \n",
       "75%             0.131962           0.062794           0.586843     0.000000   \n",
       "max             0.734932           0.696802          21.000000     0.928571   \n",
       "\n",
       "       framebased  frameTagRatio  hasDomainLink   html_ratio  image_ratio  \\\n",
       "count      3171.0    3171.000000    3171.000000  3171.000000  3171.000000   \n",
       "mean          0.0       0.058089       0.022390     0.235723     0.257211   \n",
       "std           0.0       0.043265       0.147973     0.054393     1.323941   \n",
       "min           0.0       0.000000       0.000000     0.046925    -1.000000   \n",
       "25%           0.0       0.028866       0.000000     0.201739     0.023005   \n",
       "50%           0.0       0.048302       0.000000     0.233212     0.076087   \n",
       "75%           0.0       0.074899       0.000000     0.263529     0.222222   \n",
       "max           0.0       0.375000       1.000000     0.678877    29.000000   \n",
       "\n",
       "       lengthyLinkDomain  linkwordscore  non_markup_alphanum_characters  \\\n",
       "count        3171.000000    3171.000000                     3171.000000   \n",
       "mean            0.640492      29.993693                     5698.972564   \n",
       "std             0.479932      20.626985                    10726.102405   \n",
       "min             0.000000       0.000000                        0.000000   \n",
       "25%             0.000000      14.000000                     1514.000000   \n",
       "50%             1.000000      25.000000                     3391.000000   \n",
       "75%             1.000000      42.000000                     6229.000000   \n",
       "max             1.000000     100.000000                   331764.000000   \n",
       "\n",
       "       numberOfLinks  numwords_in_url  parametrizedLinkRatio  \\\n",
       "count    3171.000000      3171.000000            3171.000000   \n",
       "mean      169.583412         4.787764               0.168745   \n",
       "std       145.842805         3.142271               0.182017   \n",
       "min         1.000000         0.000000               0.000000   \n",
       "25%        77.000000         3.000000               0.036145   \n",
       "50%       135.000000         5.000000               0.108696   \n",
       "75%       218.500000         7.000000               0.239316   \n",
       "max      1626.000000        19.000000               1.000000   \n",
       "\n",
       "       spelling_errors_ratio  \n",
       "count            3171.000000  \n",
       "mean                0.101621  \n",
       "std                 0.082189  \n",
       "min                 0.000000  \n",
       "25%                 0.067272  \n",
       "50%                 0.088861  \n",
       "75%                 0.112139  \n",
       "max                 1.000000  "
      ]
     },
     "execution_count": 9,
     "metadata": {},
     "output_type": "execute_result"
    }
   ],
   "source": [
    "df_test.describe()"
   ]
  },
  {
   "cell_type": "markdown",
   "metadata": {},
   "source": [
    "**Creating another dataframe with urlid for making submission file**"
   ]
  },
  {
   "cell_type": "code",
   "execution_count": 10,
   "metadata": {},
   "outputs": [],
   "source": [
    "url = df_test['urlid']"
   ]
  },
  {
   "cell_type": "code",
   "execution_count": 11,
   "metadata": {},
   "outputs": [
    {
     "data": {
      "text/plain": [
       "<matplotlib.axes._subplots.AxesSubplot at 0x1f5c84e1ef0>"
      ]
     },
     "execution_count": 11,
     "metadata": {},
     "output_type": "execute_result"
    },
    {
     "data": {
      "image/png": "[encoded data removed]",
      "text/plain": [
       "<Figure size 432x288 with 1 Axes>"
      ]
     },
     "metadata": {
      "needs_background": "light"
     },
     "output_type": "display_data"
    }
   ],
   "source": [
    "sns.countplot(df_train.label)"
   ]
  },
  {
   "cell_type": "markdown",
   "metadata": {},
   "source": [
    "### **Conclusion-**\n",
    "\n",
    "**1. Train Data-**\n",
    "\n",
    "- Shape : (7395,27)\n",
    "- **No null** values present\n",
    "- Dtype - **Object : 6, Numerical : 21**\n",
    "- Features like - **alchemy_category_score, is_news and news_front_page** are of object data type even after having numerical values.\n",
    "- Column - **framebased** has **only one** value which equals to zero.\n",
    "\n",
    "**2. Test Data-**\n",
    "\n",
    "- Shape : (3171,26)\n",
    "- **No null** values present\n",
    "- Dtype - **Object : 6, Numerical : 21**\n",
    "- Features like - **alchemy_category_score, is_news and news_front_page** are of object data type even after having numerical values.\n",
    "- Column - **framebased** has **only one** value which equals to zero.\n",
    "\n",
    "**3. Dataset is Balanced**"
   ]
  },
  {
   "cell_type": "markdown",
   "metadata": {},
   "source": [
    "# **4. Data Preprocessing**"
   ]
  },
  {
   "cell_type": "markdown",
   "metadata": {},
   "source": [
    "## 4.1 For Train Dataset"
   ]
  },
  {
   "cell_type": "markdown",
   "metadata": {},
   "source": [
    "Let's check for the columns - alchemy_category, alchemy_category_score, is_news, new_front_page."
   ]
  },
  {
   "cell_type": "code",
   "execution_count": 12,
   "metadata": {},
   "outputs": [
    {
     "data": {
      "text/plain": [
       "?                     2342\n",
       "recreation            1229\n",
       "arts_entertainment     941\n",
       "business               880\n",
       "health                 506\n",
       "sports                 380\n",
       "culture_politics       343\n",
       "computer_internet      296\n",
       "science_technology     289\n",
       "gaming                  76\n",
       "religion                72\n",
       "law_crime               31\n",
       "unknown                  6\n",
       "weather                  4\n",
       "Name: alchemy_category, dtype: int64"
      ]
     },
     "execution_count": 12,
     "metadata": {},
     "output_type": "execute_result"
    }
   ],
   "source": [
    "df_train['alchemy_category'].value_counts()"
   ]
  },
  {
   "cell_type": "markdown",
   "metadata": {},
   "source": [
    "**Conclusion -**\n",
    "- Here we can see that **?** is the indifferent string value with a count of 2342 which is a big value and we cannot assign any other value to this. So, we will drop this column. "
   ]
  },
  {
   "cell_type": "code",
   "execution_count": 13,
   "metadata": {},
   "outputs": [
    {
     "data": {
      "text/plain": [
       "?            2342\n",
       "0.85           82\n",
       "0.0784091      40\n",
       "0.849999       12\n",
       "0.535009       10\n",
       "             ... \n",
       "0.309071        1\n",
       "0.611926        1\n",
       "0.770075        1\n",
       "0.775669        1\n",
       "0.550798        1\n",
       "Name: alchemy_category_score, Length: 4806, dtype: int64"
      ]
     },
     "execution_count": 13,
     "metadata": {},
     "output_type": "execute_result"
    }
   ],
   "source": [
    "df_train['alchemy_category_score'].value_counts()"
   ]
  },
  {
   "cell_type": "markdown",
   "metadata": {},
   "source": [
    "**Conclusion -**\n",
    "- Here we can see that **?** is the only string value with a count of 2342 which is a big value and we cannot assign any other value to this. So, we will drop this column. "
   ]
  },
  {
   "cell_type": "code",
   "execution_count": 14,
   "metadata": {},
   "outputs": [
    {
     "data": {
      "text/plain": [
       "0    5853\n",
       "?    1248\n",
       "1     294\n",
       "Name: news_front_page, dtype: int64"
      ]
     },
     "execution_count": 14,
     "metadata": {},
     "output_type": "execute_result"
    }
   ],
   "source": [
    "df_train['news_front_page'].value_counts()"
   ]
  },
  {
   "cell_type": "markdown",
   "metadata": {},
   "source": [
    "**Conclusion -**\n",
    "- Here we can see that **?** is the only string value with a count of 1248 which is a big value and it is tough to decide what value. So, we will drop this column. "
   ]
  },
  {
   "cell_type": "code",
   "execution_count": 15,
   "metadata": {},
   "outputs": [
    {
     "data": {
      "text/plain": [
       "1    4552\n",
       "?    2843\n",
       "Name: is_news, dtype: int64"
      ]
     },
     "execution_count": 15,
     "metadata": {},
     "output_type": "execute_result"
    }
   ],
   "source": [
    "df_train['is_news'].value_counts()"
   ]
  },
  {
   "cell_type": "markdown",
   "metadata": {},
   "source": [
    "**Conclusion -**\n",
    "- Here we can see that **?** is the only string value with a count of 2843. And other value is **1**. Considering that other value might be **0**. So we will replace **?** with **0**."
   ]
  },
  {
   "cell_type": "code",
   "execution_count": 16,
   "metadata": {},
   "outputs": [],
   "source": [
    "df_train['is_news'] = np.where(df_train['is_news']=='?', 0, 1)"
   ]
  },
  {
   "cell_type": "code",
   "execution_count": 17,
   "metadata": {},
   "outputs": [],
   "source": [
    "df_train = df_train.drop('alchemy_category',axis=1)\n",
    "df_train = df_train.drop('alchemy_category_score',axis=1)\n",
    "df_train = df_train.drop('news_front_page',axis=1)"
   ]
  },
  {
   "cell_type": "markdown",
   "metadata": {},
   "source": [
    "## 4.2 For Test Dataset"
   ]
  },
  {
   "cell_type": "code",
   "execution_count": 18,
   "metadata": {},
   "outputs": [],
   "source": [
    "df_test['is_news'] = np.where(df_test['is_news']=='?', 0, 1)"
   ]
  },
  {
   "cell_type": "code",
   "execution_count": 19,
   "metadata": {},
   "outputs": [],
   "source": [
    "df_test = df_test.drop('alchemy_category',axis=1)\n",
    "df_test = df_test.drop('alchemy_category_score',axis=1)\n",
    "df_test = df_test.drop('news_front_page',axis=1)"
   ]
  },
  {
   "cell_type": "markdown",
   "metadata": {},
   "source": [
    "# **5. Feature Selection**"
   ]
  },
  {
   "cell_type": "markdown",
   "metadata": {},
   "source": [
    "## **5.1 For Train Dataset**"
   ]
  },
  {
   "cell_type": "code",
   "execution_count": 20,
   "metadata": {},
   "outputs": [
    {
     "data": {
      "text/plain": [
       "<matplotlib.axes._subplots.AxesSubplot at 0x1f5c84fe5c0>"
      ]
     },
     "execution_count": 20,
     "metadata": {},
     "output_type": "execute_result"
    },
    {
     "data": {
      "image/png": "[encoded data removed]",
      "text/plain": [
       "<Figure size 432x288 with 2 Axes>"
      ]
     },
     "metadata": {
      "needs_background": "light"
     },
     "output_type": "display_data"
    }
   ],
   "source": [
    "sns.heatmap(df_train.corr())"
   ]
  },
  {
   "cell_type": "markdown",
   "metadata": {},
   "source": [
    "- Columns like url and urlid are not so significant so we can drop them.\n",
    "- Feature - framebased can be dropped as well since it has only one value. \n",
    "- We should retain the rest of the features as it is clear from the heatmap that all the features are moderately or highly correlated with the target variable."
   ]
  },
  {
   "cell_type": "code",
   "execution_count": 21,
   "metadata": {},
   "outputs": [],
   "source": [
    "df_train = df_train.drop('url',axis=1)\n",
    "df_train = df_train.drop('urlid',axis=1)\n",
    "df_train = df_train.drop('framebased',axis=1)"
   ]
  },
  {
   "cell_type": "code",
   "execution_count": 22,
   "metadata": {},
   "outputs": [
    {
     "data": {
      "text/plain": [
       "(7395, 21)"
      ]
     },
     "execution_count": 22,
     "metadata": {},
     "output_type": "execute_result"
    }
   ],
   "source": [
    "df_train.shape"
   ]
  },
  {
   "cell_type": "markdown",
   "metadata": {},
   "source": [
    "## **5.2 For Test Dataset**"
   ]
  },
  {
   "cell_type": "code",
   "execution_count": 23,
   "metadata": {},
   "outputs": [],
   "source": [
    "df_test = df_test.drop('url',axis=1)\n",
    "df_test = df_test.drop('urlid',axis=1)\n",
    "df_test = df_test.drop('framebased',axis=1)"
   ]
  },
  {
   "cell_type": "code",
   "execution_count": 24,
   "metadata": {},
   "outputs": [
    {
     "data": {
      "text/plain": [
       "(3171, 20)"
      ]
     },
     "execution_count": 24,
     "metadata": {},
     "output_type": "execute_result"
    }
   ],
   "source": [
    "df_test.shape"
   ]
  },
  {
   "cell_type": "markdown",
   "metadata": {},
   "source": [
    "### Separating Target Feature from Dataset"
   ]
  },
  {
   "cell_type": "code",
   "execution_count": 25,
   "metadata": {},
   "outputs": [],
   "source": [
    "y = df_train.pop('label')"
   ]
  },
  {
   "cell_type": "markdown",
   "metadata": {},
   "source": [
    "### **Cleaning Feature boilerplate for Train Dataset**"
   ]
  },
  {
   "cell_type": "code",
   "execution_count": 26,
   "metadata": {},
   "outputs": [],
   "source": [
    "df_train['boilerplate'].replace(to_replace=r'\"title\":', value=\"\",inplace=True,regex=True)\n",
    "df_train['boilerplate'].replace(to_replace=r'\"url\":',value=\"\",inplace=True,regex=True)\n",
    "\n",
    "df_train['boilerplate'].replace(to_replace=r'{|}',value=\"\",inplace=True,regex=True)\n",
    "df_train['boilerplate']=df_train['boilerplate'].str.lower()"
   ]
  },
  {
   "cell_type": "code",
   "execution_count": 27,
   "metadata": {},
   "outputs": [],
   "source": [
    "ps = PorterStemmer()\n",
    "data = []\n",
    "for i in range(7395):\n",
    "    review = re.sub('[^a-zA-Z]', ' ', df_train['boilerplate'][i]) \n",
    "    review = nltk.word_tokenize(review)\n",
    "    review = [ps.stem(word) for word in review if not word in set(stopwords.words('english'))]\n",
    "    review = ' '.join(review)\n",
    "    data.append(review)"
   ]
  },
  {
   "cell_type": "code",
   "execution_count": 28,
   "metadata": {},
   "outputs": [],
   "source": [
    "from sklearn.feature_extraction.text import TfidfVectorizer\n",
    "vect_word = TfidfVectorizer(lowercase=True, analyzer='word',\n",
    "                        stop_words= 'english',ngram_range=(1,3),dtype=np.float32)\n",
    "vect_char = TfidfVectorizer( lowercase=True, analyzer='char',\n",
    "                        stop_words= 'english',ngram_range=(3,6),dtype=np.float32)"
   ]
  },
  {
   "cell_type": "code",
   "execution_count": 29,
   "metadata": {},
   "outputs": [],
   "source": [
    "from scipy import sparse\n",
    "train_vect = vect_word.fit_transform(data)\n",
    "train_vect_char = vect_char.fit_transform(data)"
   ]
  },
  {
   "cell_type": "code",
   "execution_count": 30,
   "metadata": {},
   "outputs": [],
   "source": [
    "X = sparse.hstack([train_vect, train_vect_char])"
   ]
  },
  {
   "cell_type": "markdown",
   "metadata": {},
   "source": [
    "### **Cleaning Feature boilerplate for Test Dataset**"
   ]
  },
  {
   "cell_type": "code",
   "execution_count": 31,
   "metadata": {},
   "outputs": [],
   "source": [
    "df_test['boilerplate'].replace(to_replace=r'\"title\":', value=\"\",inplace=True,regex=True)\n",
    "df_test['boilerplate'].replace(to_replace=r'\"url\":',value=\"\",inplace=True,regex=True)\n",
    "\n",
    "df_test['boilerplate'].replace(to_replace=r'{|}',value=\"\",inplace=True,regex=True)\n",
    "df_test['boilerplate']=df_test['boilerplate'].str.lower()"
   ]
  },
  {
   "cell_type": "code",
   "execution_count": 32,
   "metadata": {},
   "outputs": [],
   "source": [
    "ps = PorterStemmer()\n",
    "data1 = []\n",
    "for i in range(3171):\n",
    "    review = re.sub('[^a-zA-Z]', ' ', df_test['boilerplate'][i])   \n",
    "    review = nltk.word_tokenize(review)\n",
    "    review = [ps.stem(word) for word in review if not word in set(stopwords.words('english'))]\n",
    "    review = ' '.join(review)\n",
    "    data1.append(review)"
   ]
  },
  {
   "cell_type": "code",
   "execution_count": 33,
   "metadata": {},
   "outputs": [],
   "source": [
    "test_vect = vect_word.transform(data1)\n",
    "test_vect_char = vect_char.transform(data1)"
   ]
  },
  {
   "cell_type": "code",
   "execution_count": 34,
   "metadata": {},
   "outputs": [],
   "source": [
    "x_test = sparse.hstack([test_vect, test_vect_char])"
   ]
  },
  {
   "cell_type": "markdown",
   "metadata": {},
   "source": [
    "# **6. Model Building**"
   ]
  },
  {
   "cell_type": "markdown",
   "metadata": {},
   "source": [
    "## **6.1 Train Test Split**"
   ]
  },
  {
   "cell_type": "code",
   "execution_count": 35,
   "metadata": {},
   "outputs": [],
   "source": [
    "X_train, X_test, y_train, y_test = train_test_split(X, y, test_size=0.33, random_state=0)"
   ]
  },
  {
   "cell_type": "markdown",
   "metadata": {},
   "source": [
    "## **6.2 Model Selection**"
   ]
  },
  {
   "cell_type": "markdown",
   "metadata": {},
   "source": [
    "### Logistic Regression"
   ]
  },
  {
   "cell_type": "code",
   "execution_count": null,
   "metadata": {},
   "outputs": [],
   "source": [
    "from sklearn.linear_model import LogisticRegression\n",
    "lr = LogisticRegression(penalty='l2',C=1,max_iter=10000,dual=False)\n",
    "print('Cross Val Score: {:.2f}'.format(np.mean(cross_val_score(lr,X_train,y_train,cv=5,scoring='roc_auc'))))\n",
    "lr.fit(X_train,y_train)\n",
    "y_pred = lr.predict(X_test)\n",
    "print(\"Accuracy Score :\", accuracy_score(y_test, y_pred))\n",
    "print(\"ROC_AUC :\", roc_auc_score(y_test, y_pred))"
   ]
  },
  {
   "cell_type": "markdown",
   "metadata": {},
   "source": [
    "### KNeighbors Classifier"
   ]
  },
  {
   "cell_type": "code",
   "execution_count": null,
   "metadata": {},
   "outputs": [],
   "source": [
    "from sklearn.neighbors import KNeighborsClassifier\n",
    "KNeigh = KNeighborsClassifier(n_neighbors=10)\n",
    "print('Cross Val Score: {:.2f}'.format(np.mean(cross_val_score(KNeigh,X_train,y_train,cv=5,scoring='roc_auc'))))\n",
    "KNeigh.fit(X_train, y_train)\n",
    "y_pred = KNeigh.predict(X_test)\n",
    "print(\"Accuracy Score : \", accuracy_score(y_test,y_pred))\n",
    "print(\"ROC_AUC :\", roc_auc_score(y_test, y_pred))"
   ]
  },
  {
   "cell_type": "markdown",
   "metadata": {},
   "source": [
    "### Random Forest Classifier"
   ]
  },
  {
   "cell_type": "code",
   "execution_count": null,
   "metadata": {},
   "outputs": [],
   "source": [
    "from sklearn.ensemble import RandomForestClassifier\n",
    "RFC = RandomForestClassifier()\n",
    "print('Cross Val Score: {:.2f}'.format(np.mean(cross_val_score(RFC,X_train,y_train,cv=5,scoring='roc_auc'))))\n",
    "RFC.fit(X_train, y_train)\n",
    "y_pred = RFC.predict(X_test)\n",
    "print(\"Accuracy Score : \", accuracy_score(y_test,y_pred))\n",
    "print(\"ROC_AUC :\", roc_auc_score(y_test, y_pred))"
   ]
  },
  {
   "cell_type": "markdown",
   "metadata": {},
   "source": [
    "### XGBoost Classifier"
   ]
  },
  {
   "cell_type": "code",
   "execution_count": null,
   "metadata": {},
   "outputs": [],
   "source": [
    "from xgboost import XGBClassifier\n",
    "XGB = XGBClassifier()\n",
    "print('Cross Val Score: {:.2f}'.format(np.mean(cross_val_score(XGB,X_train,y_train,cv=5,scoring='roc_auc'))))\n",
    "XGB.fit(X_train, y_train)\n",
    "y_pred = XGB.predict(X_test)\n",
    "print(\"Accuracy Score : \", accuracy_score(y_test,y_pred))\n",
    "print(\"ROC_AUC :\", roc_auc_score(y_test, y_pred))"
   ]
  },
  {
   "cell_type": "markdown",
   "metadata": {},
   "source": [
    "**Conclusion -**\n",
    "\n",
    "- Logistic Regression gives the highest accuracy \n",
    "- Cross Val Score - 0.88\n",
    "- ROC_AUC Score on Test Data - 0.80256719610272\n",
    "- Accuracy Score on Test Data - 0.8009012699713233\n",
    "- **So, Logistic Regression will be used for final model, but first we will tune the hyperparameters.**"
   ]
  },
  {
   "cell_type": "markdown",
   "metadata": {},
   "source": [
    "## **6.3 Tuning Hyper parameters**"
   ]
  },
  {
   "cell_type": "code",
   "execution_count": null,
   "metadata": {},
   "outputs": [],
   "source": [
    "params={\n",
    "    'penalty' : ['l1', 'l2'],\n",
    "    'C' : [1, 2],\n",
    "    'solver' : ['liblinear'],\n",
    "    'random_state' : [0, 1, 40]\n",
    "}\n",
    "\n",
    "grid = GridSearchCV(lr, param_grid=params, cv=10, verbose=1, n_jobs=-1)\n",
    "grid.fit(X_train, y_train)"
   ]
  },
  {
   "cell_type": "code",
   "execution_count": null,
   "metadata": {},
   "outputs": [],
   "source": [
    "grid.best_params_"
   ]
  },
  {
   "cell_type": "code",
   "execution_count": null,
   "metadata": {},
   "outputs": [],
   "source": [
    "grid.best_score_"
   ]
  },
  {
   "cell_type": "markdown",
   "metadata": {},
   "source": [
    "## **6.4 Building Final Model**"
   ]
  },
  {
   "cell_type": "code",
   "execution_count": 36,
   "metadata": {},
   "outputs": [],
   "source": [
    "from sklearn.linear_model import LogisticRegression"
   ]
  },
  {
   "cell_type": "code",
   "execution_count": 37,
   "metadata": {},
   "outputs": [
    {
     "name": "stdout",
     "output_type": "stream",
     "text": [
      "Cross Val Score: 0.88\n",
      "Accuracy Score :  0.7996722654649734\n",
      "ROC_AUC Score :  0.8015595568536934\n"
     ]
    }
   ],
   "source": [
    "model = LogisticRegression(C=2, penalty='l2', random_state=0, solver='liblinear', class_weight='balanced')\n",
    "print('Cross Val Score: {:.2f}'.format(np.mean(cross_val_score(model,X_train,y_train,cv=5,scoring='roc_auc'))))\n",
    "model.fit(X_train,y_train)\n",
    " \n",
    "y_pred = model.predict(X_test)\n",
    "print(\"Accuracy Score : \", accuracy_score(y_test,y_pred))\n",
    "print(\"ROC_AUC Score : \", roc_auc_score(y_test,y_pred))"
   ]
  },
  {
   "cell_type": "code",
   "execution_count": 38,
   "metadata": {},
   "outputs": [
    {
     "name": "stdout",
     "output_type": "stream",
     "text": [
      "\n",
      "Confusion matrix\n",
      " [[1040  149]\n",
      " [ 340  912]]\n",
      "              precision    recall  f1-score   support\n",
      "\n",
      "           0       0.75      0.87      0.81      1189\n",
      "           1       0.86      0.73      0.79      1252\n",
      "\n",
      "    accuracy                           0.80      2441\n",
      "   macro avg       0.81      0.80      0.80      2441\n",
      "weighted avg       0.81      0.80      0.80      2441\n",
      "\n"
     ]
    }
   ],
   "source": [
    "print('\\nConfusion matrix\\n',confusion_matrix(y_test,y_pred))\n",
    "print(classification_report(y_test,y_pred))"
   ]
  },
  {
   "cell_type": "markdown",
   "metadata": {},
   "source": [
    "## **6.5 Creating Submission File**"
   ]
  },
  {
   "cell_type": "code",
   "execution_count": 44,
   "metadata": {},
   "outputs": [],
   "source": [
    "y_pred = model.predict(x_test)"
   ]
  },
  {
   "cell_type": "code",
   "execution_count": 45,
   "metadata": {},
   "outputs": [],
   "source": [
    "predictions = {'urlid':url,'label':y_pred}"
   ]
  },
  {
   "cell_type": "code",
   "execution_count": 46,
   "metadata": {},
   "outputs": [],
   "source": [
    "predictions_df = pd.DataFrame(predictions)"
   ]
  },
  {
   "cell_type": "code",
   "execution_count": 47,
   "metadata": {},
   "outputs": [
    {
     "data": {
      "text/html": [
       "<div>\n",
       "<style scoped>\n",
       "    .dataframe tbody tr th:only-of-type {\n",
       "        vertical-align: middle;\n",
       "    }\n",
       "\n",
       "    .dataframe tbody tr th {\n",
       "        vertical-align: top;\n",
       "    }\n",
       "\n",
       "    .dataframe thead th {\n",
       "        text-align: right;\n",
       "    }\n",
       "</style>\n",
       "<table border=\"1\" class=\"dataframe\">\n",
       "  <thead>\n",
       "    <tr style=\"text-align: right;\">\n",
       "      <th></th>\n",
       "      <th>urlid</th>\n",
       "      <th>label</th>\n",
       "    </tr>\n",
       "  </thead>\n",
       "  <tbody>\n",
       "    <tr>\n",
       "      <th>0</th>\n",
       "      <td>5865</td>\n",
       "      <td>1</td>\n",
       "    </tr>\n",
       "    <tr>\n",
       "      <th>1</th>\n",
       "      <td>782</td>\n",
       "      <td>0</td>\n",
       "    </tr>\n",
       "    <tr>\n",
       "      <th>2</th>\n",
       "      <td>6962</td>\n",
       "      <td>0</td>\n",
       "    </tr>\n",
       "    <tr>\n",
       "      <th>3</th>\n",
       "      <td>7640</td>\n",
       "      <td>0</td>\n",
       "    </tr>\n",
       "    <tr>\n",
       "      <th>4</th>\n",
       "      <td>3589</td>\n",
       "      <td>1</td>\n",
       "    </tr>\n",
       "    <tr>\n",
       "      <th>5</th>\n",
       "      <td>6719</td>\n",
       "      <td>0</td>\n",
       "    </tr>\n",
       "    <tr>\n",
       "      <th>6</th>\n",
       "      <td>3905</td>\n",
       "      <td>0</td>\n",
       "    </tr>\n",
       "    <tr>\n",
       "      <th>7</th>\n",
       "      <td>9841</td>\n",
       "      <td>1</td>\n",
       "    </tr>\n",
       "    <tr>\n",
       "      <th>8</th>\n",
       "      <td>7447</td>\n",
       "      <td>0</td>\n",
       "    </tr>\n",
       "    <tr>\n",
       "      <th>9</th>\n",
       "      <td>4776</td>\n",
       "      <td>0</td>\n",
       "    </tr>\n",
       "  </tbody>\n",
       "</table>\n",
       "</div>"
      ],
      "text/plain": [
       "   urlid  label\n",
       "0   5865      1\n",
       "1    782      0\n",
       "2   6962      0\n",
       "3   7640      0\n",
       "4   3589      1\n",
       "5   6719      0\n",
       "6   3905      0\n",
       "7   9841      1\n",
       "8   7447      0\n",
       "9   4776      0"
      ]
     },
     "execution_count": 47,
     "metadata": {},
     "output_type": "execute_result"
    }
   ],
   "source": [
    "predictions_df.head(10)"
   ]
  },
  {
   "cell_type": "code",
   "execution_count": 49,
   "metadata": {},
   "outputs": [
    {
     "name": "stdout",
     "output_type": "stream",
     "text": [
      "File created!\n"
     ]
    }
   ],
   "source": [
    "predictions_df.to_csv('submission_file.csv',index=False)\n",
    "print(\"File created!\")"
   ]
  },
  {
   "cell_type": "code",
   "execution_count": null,
   "metadata": {},
   "outputs": [],
   "source": []
  }
 ],
 "metadata": {
  "kernelspec": {
   "display_name": "Python 3",
   "language": "python",
   "name": "python3"
  },
  "language_info": {
   "codemirror_mode": {
    "name": "ipython",
    "version": 3
   },
   "file_extension": ".py",
   "mimetype": "text/x-python",
   "name": "python",
   "nbconvert_exporter": "python",
   "pygments_lexer": "ipython3",
   "version": "3.6.10"
  }
 },
 "nbformat": 4,
 "nbformat_minor": 4
}
